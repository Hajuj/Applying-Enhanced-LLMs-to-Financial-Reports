{
 "cells": [
  {
   "cell_type": "code",
   "execution_count": 18,
   "metadata": {},
   "outputs": [
    {
     "name": "stdout",
     "output_type": "stream",
     "text": [
      "Lowest Text:  As of September 2023, Philips had EUR 7 billion in net debt, which represented a 2.3 net debt/EBITDA ratio. Debt is denominated in euros and U.S. dollars. We dont think Philips' indebtedness level will be problematic, given its relatively stable cash flow generation, and we believe the company will have additional room for acquisitions, investments and dividends/buybacks.\n",
      "Lowest Value:  0.0067656175\n",
      "Highest Text:  In a debt-free position, Medibank is in sound financial health. We believe Medibank can fund long-term organic growth from cash flows while maintaining the current 75%-85% target dividend payout range. As at June 30, 2023, Medibank held AUD 1.2 billion of insurance business-related capital, equating to 14.6% of annual premiums, above the firm's 10%-12% target range under the new accounting standards.Given low claims volatility in health insurance the insurer could carry some debt, but given a large acquisition is not expected, we believe the conservative balance sheet is likely to remain a feature of Medibank.Investment assets of AUD 3.3 billion were allocated 22% to cash, 58% to fixed income, and 20% to equities, property, and other assets as at June 30, 2023. \n",
      "Highest Value:  0.9986091\n",
      "-----------------------\n",
      "Lowest Text:  We think Hengan is in an average financial state, as it should have no difficulty in fulfilling its debt obligations but has relatively high leverage versus domestic peers. Hengans debt/equity ratio has hovered around 1 time historically, which is higher than 0.4 times for Vinda, whereas C&S Paper and Baiya Sanitary have minimal debt. But Hengans quick ratio of 1.0 time is above that of Vinda and C&S, despite being lower than that of Baiya. The company also has a decent current ratio of 1.4 times as of the end of 2022. Its EBITDA/interest coverage ratio of 8 times and the cash balance of roughly CNY 20 billion also affirm our confidence in its ability to fulfill its debt obligations. We think the company would have no difficulty in refinancing when its debt matures and there is no obvious need for additional leverage barring investments in new product categories.\n",
      "Lowest Value:  0.0069944076\n",
      "Highest Text:  We think Textron is in solid financial shape. Over the previous economic cycle, the company generally carried 2.5-3 turns of gross debt, relative to EBITDA, which we don't view as an unreasonable amount of leverage. Despite a sharp economic turn in 2020, we calculate that the companys more stable (primarily military) businesses still generated enough EBITDA to cover interest expense 5.6 times. We think the firm will be able to manage its moderate debt load in a variety of operating environments. Textron has minimal debt maturities in 2023. The next major tranche of debt coming due is $493 million in 2024.\n",
      "Highest Value:  0.9986021\n",
      "-----------------------\n",
      "Lowest Text:  In our view, Newmont is in sound financial health. After acquiring Newcrest in November 2023, net debt of roughly USD 4.9 billion remains manageable, at about 1.1 times forecast 2023 EBITDA. We forecast net debt to decline and remain below 1 times trailing 12 months EBITDA over the remainder of our five-year forecast period, which we think is appropriate given operating leverage and exposure to cyclical gold prices. Newmont is in the midst of a material capital investment cycle, including development projects such as Tanami Expansion 2, Ahafo North, and Cerro Negro District Expansion 1. We think Newmont will likely be able to fund its development projects with cash on hand, its undrawn credit facilities, and internally generated cash flows. In terms of acquisitions, its purchase of Goldcorp in 2019 was funded primarily through equity, as was its purchase of competitor Newcrest in November 2023. While Newmont assumed Newcrests net debt, it didn't materially increase Newmont's leverage. We think any material future acquisitions will also likely mostly be funded by equity, given the companys focus on maintaining a strong balance sheet. Even after the completion of the acquisition of Goldcorp, Newmont's financial health remained in decent shape. The deal was mostly funded through equity, and the target was not particularly leveraged. Liquidity was further improved by the sale of Red Lake, the 50% stake in Kalgoorlie Consolidated Gold Mines, and the stake in Continental Gold. Newmont generated USD 1.4 billion in cash proceeds while receiving fair prices for assets sold. As such, we view Newmont's liquidity position as favorable, further supported by its cash and marketable securities and revolving credit facilities. After bedding down its Newcrest acquisition, Newmont is also targeting around USD 2 billion in proceeds from the likely sale of some of what it views as its less attractive assets.\n",
      "Lowest Value:  0.007048477\n",
      "Highest Text:  CNH maintains a sound balance sheet. Outstanding industrial debt in the third fiscal quarter stood at $4.6 billion. The captive finance arm holds considerably more debt than the industrial business, but this is reasonable, given its status as a lender to both customers and dealers. Total finance arm debt came in at $21.8 billion in the third quarter, along with $22.7 billion in finance receivables and $521 million in cash. In terms of liquidity, we believe the company can meet its near-term debt obligations, given its strong cash balance. The companys cash position as of the third quarter stood at $2.4 billion on its industrial balance sheet. We also find comfort in CNHs ability to tap into available lines of credit to meet any short-term needs. The company has access to $3.9 billion in credit facilities. In our view, CNH maintains a strong financial position supported by a clean balance sheet and strong free cash flow prospects.We also think CNH can generate solid free cash flow throughout the economic cycle. We believe the company can generate $1.2 billion in free cash flow in our midcycle year, supporting its ability to return free cash flow to shareholders, mostly through dividends. Additionally, we think management is determined to rationalize its product portfolio and manufacturing operations. The company is working to reduce a significant portion of its products in the construction business, refocusing their efforts on higher volume models. We believe this will allows CNH to run leaner in its manufacturing operations. If successful, this will put CNH on much better footing from a cost perspective, further supporting its ability to return cash to shareholders.\n",
      "Highest Value:  0.9985965\n",
      "-----------------------\n"
     ]
    }
   ],
   "source": [
    "# load csv file\n",
    "import pandas as pd\n",
    "\n",
    "df = pd.read_csv('../2. models/predictions/nickmuchi-sec-bert-finetuned-finance-classification_False_FinancialStrengthText_MAMConfig_2024-04-25_predictions.csv')\n",
    "test_df = pd.read_csv('../1. data/final/test.csv')\n",
    "\n",
    "# Get the indices of the three lowest values\n",
    "lowest_indices = df['1'].nsmallest(3).index\n",
    "\n",
    "# Get the indices of the three highest values\n",
    "highest_indices = df['1'].nlargest(3).index\n",
    "\n",
    "# Get the texts at the lowest indices\n",
    "lowest_texts = test_df.loc[lowest_indices, 'FinancialStrengthText']\n",
    "\n",
    "# Get the texts at the highest indices\n",
    "highest_texts = test_df.loc[highest_indices, 'FinancialStrengthText']\n",
    "\n",
    "# Get the values of column '1' at the lowest and highest indices\n",
    "lowest_values = df.loc[lowest_indices, '1']\n",
    "highest_values = df.loc[highest_indices, '1']\n",
    "\n",
    "for i in range(len(lowest_texts)):\n",
    "    print('Lowest Text: ', lowest_texts.iloc[i])\n",
    "    print('Lowest Value: ', lowest_values.iloc[i])\n",
    "    print('Highest Text: ', highest_texts.iloc[i])\n",
    "    print('Highest Value: ', highest_values.iloc[i])\n",
    "    print('-----------------------')"
   ]
  },
  {
   "cell_type": "code",
   "execution_count": null,
   "metadata": {},
   "outputs": [],
   "source": []
  }
 ],
 "metadata": {
  "kernelspec": {
   "display_name": "Python 3",
   "language": "python",
   "name": "python3"
  },
  "language_info": {
   "codemirror_mode": {
    "name": "ipython",
    "version": 3
   },
   "file_extension": ".py",
   "mimetype": "text/x-python",
   "name": "python",
   "nbconvert_exporter": "python",
   "pygments_lexer": "ipython3",
   "version": "3.10.13"
  }
 },
 "nbformat": 4,
 "nbformat_minor": 2
}
