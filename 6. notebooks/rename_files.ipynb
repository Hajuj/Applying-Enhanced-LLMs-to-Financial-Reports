{
 "cells": [
  {
   "metadata": {
    "ExecuteTime": {
     "end_time": "2024-04-24T22:11:55.180824Z",
     "start_time": "2024-04-24T22:11:55.174830Z"
    }
   },
   "cell_type": "code",
   "source": [
    "import os\n",
    "\n",
    "# Define the directory where the files are located\n",
    "directory = \"../3. evaluation/roc_curves/\"\n",
    "\n",
    "# Get the list of files in the directory\n",
    "files = os.listdir(directory)\n",
    "\n",
    "# Define the old and new part of the filename to be replaced/added\n",
    "old_part = \"True_AnalystNoteList_\"\n",
    "new_part = \"True_AnalystNoteList_LoRAConfig_\"\n",
    "\n",
    "# Initialize a dictionary to hold the mapping of old to new filenames\n",
    "renaming_map = {}\n",
    "\n",
    "# Loop through the files to create the renaming map\n",
    "for file in files:\n",
    "    # Check if the old part is in the filename and 'adapters.configuration.adapter_config' is not\n",
    "    if old_part in file and 'adapters.configuration.adapter_config' not in file:\n",
    "        # Construct the new filename\n",
    "        new_filename = file.replace(old_part, new_part)\n",
    "        # Add to the renaming map\n",
    "        renaming_map[file] = new_filename\n",
    "\n",
    "# Now, actually rename the files\n",
    "for old_name, new_name in renaming_map.items():\n",
    "    os.rename(directory + old_name, directory + new_name)\n",
    "\n",
    "# Output the renaming map as a result to show which files were renamed\n",
    "renaming_map\n"
   ],
   "id": "b8a8ce7910d43438",
   "outputs": [
    {
     "data": {
      "text/plain": [
       "{'siebert-sentiment-roberta-large-english_True_AnalystNoteList_2024-04-23.png': 'siebert-sentiment-roberta-large-english_True_AnalystNoteList_LoRAConfig_2024-04-23.png',\n",
       " 'soleimanian-financial-roberta-large-sentiment_True_AnalystNoteList_2024-04-23.png': 'soleimanian-financial-roberta-large-sentiment_True_AnalystNoteList_LoRAConfig_2024-04-23.png',\n",
       " 'nickmuchi-deberta-v3-base-finetuned-finance-text-classification_True_AnalystNoteList_2024-04-22.png': 'nickmuchi-deberta-v3-base-finetuned-finance-text-classification_True_AnalystNoteList_LoRAConfig_2024-04-22.png',\n",
       " 'bardsai-finance-sentiment-pl-fast_True_AnalystNoteList_2024-04-22.png': 'bardsai-finance-sentiment-pl-fast_True_AnalystNoteList_LoRAConfig_2024-04-22.png',\n",
       " 'nickmuchi-sec-bert-finetuned-finance-classification_True_AnalystNoteList_2024-04-22.png': 'nickmuchi-sec-bert-finetuned-finance-classification_True_AnalystNoteList_LoRAConfig_2024-04-22.png',\n",
       " 'yiyanghkust-finbert-tone_True_AnalystNoteList_2024-04-22.png': 'yiyanghkust-finbert-tone_True_AnalystNoteList_LoRAConfig_2024-04-22.png',\n",
       " 'distilbert-distilbert-base-uncased-finetuned-sst-2-english_True_AnalystNoteList_2024-04-23.png': 'distilbert-distilbert-base-uncased-finetuned-sst-2-english_True_AnalystNoteList_LoRAConfig_2024-04-23.png',\n",
       " 'ProsusAI-finbert_True_AnalystNoteList_2024-04-23.png': 'ProsusAI-finbert_True_AnalystNoteList_LoRAConfig_2024-04-23.png',\n",
       " 'RashidNLP-Finance-Sentiment-Classification_True_AnalystNoteList_2024-04-23.png': 'RashidNLP-Finance-Sentiment-Classification_True_AnalystNoteList_LoRAConfig_2024-04-23.png',\n",
       " 'ahmedrachid-FinancialBERT-Sentiment-Analysis_True_AnalystNoteList_2024-04-23.png': 'ahmedrachid-FinancialBERT-Sentiment-Analysis_True_AnalystNoteList_LoRAConfig_2024-04-23.png',\n",
       " 'kwang123-bert-sentiment-analysis_True_AnalystNoteList_2024-04-23.png': 'kwang123-bert-sentiment-analysis_True_AnalystNoteList_LoRAConfig_2024-04-23.png'}"
      ]
     },
     "execution_count": 5,
     "metadata": {},
     "output_type": "execute_result"
    }
   ],
   "execution_count": 5
  },
  {
   "metadata": {
    "ExecuteTime": {
     "end_time": "2024-04-24T22:03:56.438405Z",
     "start_time": "2024-04-24T22:03:56.433756Z"
    }
   },
   "cell_type": "code",
   "source": [
    "# Update the function to handle the renaming of files that include adapter_config object references\n",
    "def rename_adapter_config(files):\n",
    "    # Define the parts of filenames related to the adapter configs\n",
    "    adapter_configs = [\"ConfigUnion\", \"UniPELTConfig\", \"MAMConfig\"]\n",
    "    # Initialize a dictionary to hold the mapping of old to new filenames\n",
    "    renaming_map = {}\n",
    "\n",
    "    # Loop through the files to create the renaming map\n",
    "    for file in files:\n",
    "        # Check for each type of adapter config in the filename\n",
    "        for config in adapter_configs:\n",
    "            if config in file:\n",
    "                # Extract the part before and after the adapter_config reference\n",
    "                parts = file.split('<adapters.configuration.adapter_config.')\n",
    "                if len(parts) > 1:\n",
    "                    # Reconstruct the filename with only the name of the adapter_config\n",
    "                    new_filename = f\"{parts[0]}{config}{parts[1].split('>')[-1]}\"\n",
    "                    # Add to the renaming map\n",
    "                    renaming_map[file] = new_filename\n",
    "                    break  # Stop checking other configs if one is found\n",
    "\n",
    "    # Now, actually rename the files\n",
    "    for old_name, new_name in renaming_map.items():\n",
    "        os.rename(directory + old_name, directory + new_name)\n",
    "    \n",
    "    return renaming_map\n",
    "\n",
    "# Apply the renaming function to the list of files\n",
    "renaming_result = rename_adapter_config(files)\n",
    "renaming_result\n"
   ],
   "id": "e2f98da0ef43d346",
   "outputs": [
    {
     "data": {
      "text/plain": [
       "{'yiyanghkust-finbert-tone_True_AnalystNoteList_<adapters.configuration.adapter_config.MAMConfig object at 0x344f4f530>_2024-04-23_predictions.csv': 'yiyanghkust-finbert-tone_True_AnalystNoteList_MAMConfig_2024-04-23_predictions.csv',\n",
       " 'nickmuchi-sec-bert-finetuned-finance-classification_True_AnalystNoteList_<adapters.configuration.adapter_config.ConfigUnion object at 0x345900800>_2024-04-23_predictions.csv': 'nickmuchi-sec-bert-finetuned-finance-classification_True_AnalystNoteList_ConfigUnion_2024-04-23_predictions.csv',\n",
       " 'yiyanghkust-finbert-tone_True_AnalystNoteList_<adapters.configuration.adapter_config.ConfigUnion object at 0x345900800>_2024-04-23_predictions.csv': 'yiyanghkust-finbert-tone_True_AnalystNoteList_ConfigUnion_2024-04-23_predictions.csv',\n",
       " 'yiyanghkust-finbert-tone_True_AnalystNoteList_<adapters.configuration.adapter_config.UniPELTConfig object at 0x13c81c4a0>_2024-04-23_predictions.csv': 'yiyanghkust-finbert-tone_True_AnalystNoteList_UniPELTConfig_2024-04-23_predictions.csv',\n",
       " 'nickmuchi-sec-bert-finetuned-finance-classification_True_AnalystNoteList_<adapters.configuration.adapter_config.MAMConfig object at 0x344f4f530>_2024-04-23_predictions.csv': 'nickmuchi-sec-bert-finetuned-finance-classification_True_AnalystNoteList_MAMConfig_2024-04-23_predictions.csv',\n",
       " 'nickmuchi-sec-bert-finetuned-finance-classification_True_AnalystNoteList_<adapters.configuration.adapter_config.UniPELTConfig object at 0x13c81c4a0>_2024-04-23_predictions.csv': 'nickmuchi-sec-bert-finetuned-finance-classification_True_AnalystNoteList_UniPELTConfig_2024-04-23_predictions.csv'}"
      ]
     },
     "execution_count": 4,
     "metadata": {},
     "output_type": "execute_result"
    }
   ],
   "execution_count": 4
  },
  {
   "metadata": {},
   "cell_type": "code",
   "outputs": [],
   "execution_count": null,
   "source": "",
   "id": "d691aa1467cbaf81"
  }
 ],
 "metadata": {
  "kernelspec": {
   "display_name": "Python 3",
   "language": "python",
   "name": "python3"
  },
  "language_info": {
   "codemirror_mode": {
    "name": "ipython",
    "version": 2
   },
   "file_extension": ".py",
   "mimetype": "text/x-python",
   "name": "python",
   "nbconvert_exporter": "python",
   "pygments_lexer": "ipython2",
   "version": "2.7.6"
  }
 },
 "nbformat": 4,
 "nbformat_minor": 5
}
